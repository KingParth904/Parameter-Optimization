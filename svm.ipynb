{
  "nbformat": 4,
  "nbformat_minor": 0,
  "metadata": {
    "colab": {
      "provenance": []
    },
    "kernelspec": {
      "name": "python3",
      "display_name": "Python 3"
    },
    "language_info": {
      "name": "python"
    }
  },
  "cells": [
    {
      "cell_type": "code",
      "source": [
        "!pip install ucimlrepo"
      ],
      "metadata": {
        "colab": {
          "base_uri": "https://localhost:8080/"
        },
        "id": "qNMrzCPG0qI3",
        "outputId": "17671ba5-0e1a-4d43-cf3e-177b40726760"
      },
      "execution_count": 9,
      "outputs": [
        {
          "output_type": "stream",
          "name": "stdout",
          "text": [
            "Requirement already satisfied: ucimlrepo in /usr/local/lib/python3.10/dist-packages (0.0.6)\n"
          ]
        }
      ]
    },
    {
      "cell_type": "code",
      "execution_count": 10,
      "metadata": {
        "id": "Ie0c612K0inc"
      },
      "outputs": [],
      "source": [
        "from ucimlrepo import fetch_ucirepo\n",
        "import pandas as pd\n",
        "import matplotlib.pyplot as plt\n",
        "from sklearn.model_selection import train_test_split\n",
        "from sklearn.svm import SVC\n",
        "from sklearn.metrics import accuracy_score\n",
        "import numpy as np\n",
        "\n"
      ]
    },
    {
      "cell_type": "code",
      "source": [
        "from sklearn.model_selection import train_test_split\n",
        "from sklearn.svm import SVC\n",
        "from sklearn.metrics import accuracy_score\n",
        "import numpy as np\n",
        "\n",
        "\n",
        "def svm_optimization(sample_data, iterations):\n",
        "    X = sample_data.drop(columns=['quality'])\n",
        "    y = sample_data['quality']\n",
        "\n",
        "    Cm_iterations=iterations\n",
        "    best_accuracy=0\n",
        "    best_params={}\n",
        "    accuracy_values=[]\n",
        "\n",
        "    for j in range(0, Cm_iterations):\n",
        "\n",
        "        X_train, X_test, y_train, y_test = train_test_split(X, y, test_size=0.2)\n",
        "        # Randomly select kernel and parameters\n",
        "        kernel = np.random.choice(['linear', 'rbf', 'sigmoid'])\n",
        "        C = np.random.uniform(0, 10)\n",
        "        gamma = np.random.uniform(0, 10)\n",
        "        print(kernel)\n",
        "        # Train the SVM model\n",
        "        model = SVC(kernel=kernel, gamma=gamma, C=C)\n",
        "        model.fit(X_train, y_train)\n",
        "\n",
        "        # Evaluate the model\n",
        "        y_pred = model.predict(X_test)\n",
        "        accuracy = accuracy_score(y_test, y_pred)\n",
        "\n",
        "\n",
        "        # Update best accuracy and corresponding parameters if current model is better\n",
        "        if accuracy > best_accuracy:\n",
        "            best_accuracy = accuracy\n",
        "\n",
        "            best_params = {'kernel': kernel, 'gamma': gamma, 'C': C}\n",
        "        accuracy_values.append(best_accuracy)\n",
        "\n",
        "    return [best_params, best_accuracy, accuracy_values]"
      ],
      "metadata": {
        "id": "X8azfSq30jrW"
      },
      "execution_count": 11,
      "outputs": []
    },
    {
      "cell_type": "code",
      "source": [
        "from ucimlrepo import fetch_ucirepo\n",
        "\n",
        "# fetch dataset\n",
        "wine_quality = fetch_ucirepo(id=186)\n",
        "\n",
        "# data (as pandas dataframes)\n",
        "X = wine_quality.data.features\n",
        "y = wine_quality.data.targets\n",
        "\n",
        "# metadata\n",
        "print(wine_quality.metadata)\n",
        "\n",
        "# variable information\n",
        "print(wine_quality.variables)\n",
        "\n",
        "\n"
      ],
      "metadata": {
        "colab": {
          "base_uri": "https://localhost:8080/"
        },
        "id": "Wx4Nsrve1rZU",
        "outputId": "a9c00a13-aea8-4ef5-b5a1-024c45bb5f95"
      },
      "execution_count": 12,
      "outputs": [
        {
          "output_type": "stream",
          "name": "stdout",
          "text": [
            "{'uci_id': 186, 'name': 'Wine Quality', 'repository_url': 'https://archive.ics.uci.edu/dataset/186/wine+quality', 'data_url': 'https://archive.ics.uci.edu/static/public/186/data.csv', 'abstract': 'Two datasets are included, related to red and white vinho verde wine samples, from the north of Portugal. The goal is to model wine quality based on physicochemical tests (see [Cortez et al., 2009], http://www3.dsi.uminho.pt/pcortez/wine/).', 'area': 'Business', 'tasks': ['Classification', 'Regression'], 'characteristics': ['Multivariate'], 'num_instances': 4898, 'num_features': 11, 'feature_types': ['Real'], 'demographics': [], 'target_col': ['quality'], 'index_col': None, 'has_missing_values': 'no', 'missing_values_symbol': None, 'year_of_dataset_creation': 2009, 'last_updated': 'Wed Nov 15 2023', 'dataset_doi': '10.24432/C56S3T', 'creators': ['Paulo Cortez', 'A. Cerdeira', 'F. Almeida', 'T. Matos', 'J. Reis'], 'intro_paper': {'title': 'Modeling wine preferences by data mining from physicochemical properties', 'authors': 'P. Cortez, A. Cerdeira, Fernando Almeida, Telmo Matos, J. Reis', 'published_in': 'Decision Support Systems', 'year': 2009, 'url': 'https://www.semanticscholar.org/paper/Modeling-wine-preferences-by-data-mining-from-Cortez-Cerdeira/bf15a0ccc14ac1deb5cea570c870389c16be019c', 'doi': None}, 'additional_info': {'summary': 'The two datasets are related to red and white variants of the Portuguese \"Vinho Verde\" wine. For more details, consult: http://www.vinhoverde.pt/en/ or the reference [Cortez et al., 2009].  Due to privacy and logistic issues, only physicochemical (inputs) and sensory (the output) variables are available (e.g. there is no data about grape types, wine brand, wine selling price, etc.).\\n\\nThese datasets can be viewed as classification or regression tasks.  The classes are ordered and not balanced (e.g. there are many more normal wines than excellent or poor ones). Outlier detection algorithms could be used to detect the few excellent or poor wines. Also, we are not sure if all input variables are relevant. So it could be interesting to test feature selection methods.\\n', 'purpose': None, 'funded_by': None, 'instances_represent': None, 'recommended_data_splits': None, 'sensitive_data': None, 'preprocessing_description': None, 'variable_info': 'For more information, read [Cortez et al., 2009].\\r\\nInput variables (based on physicochemical tests):\\r\\n   1 - fixed acidity\\r\\n   2 - volatile acidity\\r\\n   3 - citric acid\\r\\n   4 - residual sugar\\r\\n   5 - chlorides\\r\\n   6 - free sulfur dioxide\\r\\n   7 - total sulfur dioxide\\r\\n   8 - density\\r\\n   9 - pH\\r\\n   10 - sulphates\\r\\n   11 - alcohol\\r\\nOutput variable (based on sensory data): \\r\\n   12 - quality (score between 0 and 10)', 'citation': None}}\n",
            "                    name     role         type demographic  \\\n",
            "0          fixed_acidity  Feature   Continuous        None   \n",
            "1       volatile_acidity  Feature   Continuous        None   \n",
            "2            citric_acid  Feature   Continuous        None   \n",
            "3         residual_sugar  Feature   Continuous        None   \n",
            "4              chlorides  Feature   Continuous        None   \n",
            "5    free_sulfur_dioxide  Feature   Continuous        None   \n",
            "6   total_sulfur_dioxide  Feature   Continuous        None   \n",
            "7                density  Feature   Continuous        None   \n",
            "8                     pH  Feature   Continuous        None   \n",
            "9              sulphates  Feature   Continuous        None   \n",
            "10               alcohol  Feature   Continuous        None   \n",
            "11               quality   Target      Integer        None   \n",
            "12                 color    Other  Categorical        None   \n",
            "\n",
            "               description units missing_values  \n",
            "0                     None  None             no  \n",
            "1                     None  None             no  \n",
            "2                     None  None             no  \n",
            "3                     None  None             no  \n",
            "4                     None  None             no  \n",
            "5                     None  None             no  \n",
            "6                     None  None             no  \n",
            "7                     None  None             no  \n",
            "8                     None  None             no  \n",
            "9                     None  None             no  \n",
            "10                    None  None             no  \n",
            "11  score between 0 and 10  None             no  \n",
            "12            red or white  None             no  \n"
          ]
        }
      ]
    },
    {
      "cell_type": "code",
      "source": [
        "\n",
        "data = pd.concat([X, y], axis=1)\n",
        "print(data.head())\n"
      ],
      "metadata": {
        "colab": {
          "base_uri": "https://localhost:8080/"
        },
        "id": "vB4qJFRE1uiv",
        "outputId": "28cdd606-d237-42d3-ca14-4c690d2e07b9"
      },
      "execution_count": 13,
      "outputs": [
        {
          "output_type": "stream",
          "name": "stdout",
          "text": [
            "   fixed_acidity  volatile_acidity  citric_acid  residual_sugar  chlorides  \\\n",
            "0            7.4              0.70         0.00             1.9      0.076   \n",
            "1            7.8              0.88         0.00             2.6      0.098   \n",
            "2            7.8              0.76         0.04             2.3      0.092   \n",
            "3           11.2              0.28         0.56             1.9      0.075   \n",
            "4            7.4              0.70         0.00             1.9      0.076   \n",
            "\n",
            "   free_sulfur_dioxide  total_sulfur_dioxide  density    pH  sulphates  \\\n",
            "0                 11.0                  34.0   0.9978  3.51       0.56   \n",
            "1                 25.0                  67.0   0.9968  3.20       0.68   \n",
            "2                 15.0                  54.0   0.9970  3.26       0.65   \n",
            "3                 17.0                  60.0   0.9980  3.16       0.58   \n",
            "4                 11.0                  34.0   0.9978  3.51       0.56   \n",
            "\n",
            "   alcohol  quality  \n",
            "0      9.4        5  \n",
            "1      9.8        5  \n",
            "2      9.8        5  \n",
            "3      9.8        6  \n",
            "4      9.4        5  \n"
          ]
        }
      ]
    },
    {
      "cell_type": "code",
      "source": [
        "\n",
        "# Creating samples\n",
        "samples = [data.sample(1000) for _ in range(10)]\n",
        "\n",
        "# Variables keep record of best_values\n",
        "overall_best_accuracy = 0\n",
        "overall_best_sample_past_accuracies = []\n",
        "best_accuracies = []\n",
        "sample_names = ['S1', 'S2', 'S3', 'S4', 'S5', 'S6', 'S7', 'S8', 'S9', 'S10']\n",
        "best_kernels = []\n",
        "best_gammas = []\n",
        "best_Cs = []\n",
        "iterations = 10\n",
        "# Running SVM_Optimization function for each Sample\n",
        "for i in samples:\n",
        "    [best_params, best_accuracy, accuracy_values] = svm_optimization(i , iterations)\n",
        "    best_kernels.append(best_params['kernel'])\n",
        "    best_gammas.append(round(best_params['gamma'], 2))\n",
        "    best_Cs.append(round(best_params['C'], 2))\n",
        "    best_accuracies.append(best_accuracy)\n",
        "\n",
        "    if best_accuracy > overall_best_accuracy:\n",
        "        overall_best_sample_past_accuracies = accuracy_values\n",
        "        overall_best_accuracy = best_accuracy\n",
        "\n",
        "print(overall_best_accuracy)\n",
        "result_table_df = pd.DataFrame([sample_names, best_accuracies, best_kernels, best_Cs, best_gammas])\n",
        "\n",
        "df_transposed = result_table_df.T\n",
        "df_transposed.columns = ['Sample', 'Best Accuracy', 'Best Kernel', 'Best C Vals.', 'Best Gamma Vals.']"
      ],
      "metadata": {
        "colab": {
          "base_uri": "https://localhost:8080/"
        },
        "id": "E-pGpLwc2X6T",
        "outputId": "8eb760d4-32c9-4a7b-a5a8-2220d9893f37"
      },
      "execution_count": 14,
      "outputs": [
        {
          "output_type": "stream",
          "name": "stdout",
          "text": [
            "sigmoid\n",
            "rbf\n",
            "sigmoid\n",
            "rbf\n",
            "sigmoid\n",
            "linear\n",
            "linear\n",
            "sigmoid\n",
            "rbf\n",
            "sigmoid\n",
            "linear\n",
            "linear\n",
            "sigmoid\n",
            "sigmoid\n",
            "linear\n",
            "rbf\n",
            "rbf\n",
            "linear\n",
            "sigmoid\n",
            "rbf\n",
            "rbf\n",
            "rbf\n",
            "linear\n",
            "rbf\n",
            "sigmoid\n",
            "rbf\n",
            "rbf\n",
            "linear\n",
            "rbf\n",
            "sigmoid\n",
            "rbf\n",
            "sigmoid\n",
            "rbf\n",
            "sigmoid\n",
            "rbf\n",
            "rbf\n",
            "rbf\n",
            "linear\n",
            "linear\n",
            "linear\n",
            "linear\n",
            "sigmoid\n",
            "sigmoid\n",
            "sigmoid\n",
            "sigmoid\n",
            "linear\n",
            "rbf\n",
            "sigmoid\n",
            "rbf\n",
            "sigmoid\n",
            "sigmoid\n",
            "rbf\n",
            "rbf\n",
            "sigmoid\n",
            "rbf\n",
            "linear\n",
            "linear\n",
            "rbf\n",
            "sigmoid\n",
            "sigmoid\n",
            "linear\n",
            "rbf\n",
            "rbf\n",
            "linear\n",
            "linear\n",
            "rbf\n",
            "linear\n",
            "sigmoid\n",
            "linear\n",
            "sigmoid\n",
            "linear\n",
            "sigmoid\n",
            "sigmoid\n",
            "linear\n",
            "sigmoid\n",
            "rbf\n",
            "sigmoid\n",
            "rbf\n",
            "rbf\n",
            "rbf\n",
            "sigmoid\n",
            "rbf\n",
            "sigmoid\n",
            "rbf\n",
            "linear\n",
            "rbf\n",
            "linear\n",
            "rbf\n",
            "rbf\n",
            "linear\n",
            "sigmoid\n",
            "linear\n",
            "rbf\n",
            "sigmoid\n",
            "sigmoid\n",
            "linear\n",
            "rbf\n",
            "linear\n",
            "rbf\n",
            "sigmoid\n",
            "0.61\n"
          ]
        }
      ]
    },
    {
      "cell_type": "code",
      "source": [
        "# Create separate figures for the table and plot\n",
        "fig_table, ax_table = plt.subplots(figsize=(8, 5))\n",
        "fig_plot, ax_plot = plt.subplots(figsize=(6, 4))\n",
        "\n",
        "# Creating The Analysis Table\n",
        "table = ax_table.table(cellText=df_transposed.values,\n",
        "          colLabels=df_transposed.columns,\n",
        "          loc='center')\n",
        "ax_table.axis('off')  # Hide the axes\n",
        "table.auto_set_font_size(False)\n",
        "table.set_fontsize(9)\n",
        "ax_table.set_title('Analysis Table')\n",
        "\n",
        "# Creating The Analysis Plot for Sample with highest Best Accuracy\n",
        "ax_plot.plot(range(1, len(overall_best_sample_past_accuracies) + 1), overall_best_sample_past_accuracies, marker='o')\n",
        "ax_plot.set_title('Convergence Plot')\n",
        "ax_plot.set_xlabel('Iteration')\n",
        "ax_plot.set_ylabel('Accuracy')\n",
        "plt.show()"
      ],
      "metadata": {
        "id": "QFU11COU1jBj",
        "colab": {
          "base_uri": "https://localhost:8080/",
          "height": 837
        },
        "outputId": "bd965435-f8b8-4309-d833-20e3d1afd8f5"
      },
      "execution_count": 16,
      "outputs": [
        {
          "output_type": "display_data",
          "data": {
            "text/plain": [
              "<Figure size 800x500 with 1 Axes>"
            ],
            "image/png": "[encoded data removed]"
          },
          "metadata": {}
        },
        {
          "output_type": "display_data",
          "data": {
            "text/plain": [
              "<Figure size 600x400 with 1 Axes>"
            ],
            "image/png": "[encoded data removed]"
          },
          "metadata": {}
        }
      ]
    },
    {
      "cell_type": "code",
      "source": [],
      "metadata": {
        "id": "ECyCPJd6Ng7O"
      },
      "execution_count": 15,
      "outputs": []
    }
  ]
}